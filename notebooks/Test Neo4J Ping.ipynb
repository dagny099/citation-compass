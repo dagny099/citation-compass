{
 "cells": [
  {
   "cell_type": "code",
   "execution_count": null,
   "id": "984d1b8c",
   "metadata": {},
   "outputs": [],
   "source": [
    "#!/usr/bin/env python3\n",
    "\"\"\"\n",
    "Minimal script to ping a Neo4J database and update \"lastPing\" property of a node type \"Ping\" (id=1)\n",
    "\"\"\"\n",
    "import os\n",
    "from datetime import datetime\n",
    "from neo4j import GraphDatabase, basic_auth\n",
    "\n",
    "URI = os.environ[\"NEO4J_URI\"]                 # e.g. neo4j+s://<id>.databases.neo4j.io\n",
    "AUTH_USER = os.environ[\"NEO4J_USERNAME\"]      # e.g. neo4j\n",
    "AUTH_PASSWORD = os.environ[\"NEO4J_PASSWORD\"]  # Aura password\n",
    "\n",
    "def ping():\n",
    "    driver = GraphDatabase.driver(URI, auth=basic_auth(AUTH_USER, AUTH_PASSWORD))\n",
    "    timestamp = datetime.utcnow().isoformat()\n",
    "    query = \"\"\"\n",
    "    MERGE (p:Ping {id: 1})\n",
    "    SET p.lastPing = $timestamp\n",
    "    \"\"\"\n",
    "    with driver.session() as session:\n",
    "        session.run(query, timestamp=timestamp)\n",
    "    driver.close()\n",
    "\n",
    "if __name__ == \"__main__\":\n",
    "    ping()"
   ]
  },
  {
   "cell_type": "code",
   "execution_count": 7,
   "id": "cc3cc12c",
   "metadata": {},
   "outputs": [
    {
     "name": "stderr",
     "output_type": "stream",
     "text": [
      "2025-10-21 16:56:52,216 - INFO - Testing Neo4j connection...\n",
      "2025-10-21 16:56:52,616 - INFO - Neo4j connection test successful\n",
      "2025-10-21 16:56:52,616 - INFO - Neo4j connection initialized to neo4j+s://5a36bc94.databases.neo4j.io\n"
     ]
    },
    {
     "name": "stdout",
     "output_type": "stream",
     "text": [
      "{\n",
      "  \"ping_id\": \"61c73351-f523-49ea-a758-2871bc216780\",\n",
      "  \"timestamp_iso\": \"2025-10-21T21:56:52.875941+00:00\",\n",
      "  \"timestamp_display\": \"2025-10-21 04:56:52 PM CDT\",\n",
      "  \"machine_id\": \"Macmini.lan\",\n",
      "  \"number_node_types\": 6,\n",
      "  \"number_nodes\": 43710,\n",
      "  \"number_relationship_types\": 5,\n",
      "  \"number_relationships\": 111747,\n",
      "  \"neo4j_version\": \"5.27-aura\",\n",
      "  \"neo4j_edition\": \"enterprise\",\n",
      "  \"raw\": {\n",
      "    \"version\": \"5.27-aura\",\n",
      "    \"edition\": \"enterprise\",\n",
      "    \"node_labels\": [\n",
      "      \"Paper\",\n",
      "      \"Author\",\n",
      "      \"PubVenue\",\n",
      "      \"PubYear\",\n",
      "      \"Field\",\n",
      "      \"SchemaVersion\"\n",
      "    ],\n",
      "    \"relationship_types\": [\n",
      "      \"PUBLISHED_IN\",\n",
      "      \"PUB_YEAR\",\n",
      "      \"IS_ABOUT\",\n",
      "      \"CITES\",\n",
      "      \"AUTHORED\"\n",
      "    ],\n",
      "    \"total_nodes\": 43710,\n",
      "    \"total_relationships\": 111747\n",
      "  }\n",
      "}\n",
      "\n"
     ]
    },
    {
     "name": "stderr",
     "output_type": "stream",
     "text": [
      "2025-10-21 16:56:52,875 - INFO - Retrieved database info: 5.27-aura\n",
      "2025-10-21 16:56:52,876 - INFO - Dry run requested; skipping persistence.\n",
      "2025-10-21 16:56:52,877 - INFO - Neo4j connection closed\n"
     ]
    }
   ],
   "source": [
    "#!/usr/bin/env python3\n",
    "\"\"\"\n",
    "Richer Neo4j ping script to gather a snapshot of basic database telemetry and optionally record\n",
    "it back into Neo4j for auditing. Uses `src/database/ping.py`\n",
    "\n",
    "By default, it prints the collected metrics as pretty JSON and writes a `PingLog` node \n",
    "unless `--dry-run` is supplied.\n",
    "\n",
    "Usage example:\n",
    "\n",
    "    python scripts/neo4j_ping.py \\\\\n",
    "        --uri \"$NEO4J_URI\" \\\\\n",
    "        --user \"$NEO4J_USER\" \\\\\n",
    "        --password \"$NEO4J_PWD\" \\\\\n",
    "        --monitor-id primary\n",
    "\n",
    "In the corresponding database, **A PingLog node is created (or merged) per monitor_id** \n",
    "and holds the latest stats plus a rolling history:\n",
    "\n",
    "According to , it carries:\n",
    "    monitor_id (string): natural key for the environment or credential set.\n",
    "    created_at (datetime): when the node was first created.\n",
    "    lastPing-machine-id (string): identifier of the host that ran the most recent ping.\n",
    "    lastPing-timestamp (string): human-friendly Central Time representation of that ping.\n",
    "    lastPing-number_nodes (integer): most recent total node count.\n",
    "    lastPing-number_rels (integer): most recent total relationship count.\n",
    "    neo4j_version / neo4j_edition (strings): metadata from dbms.components().\n",
    "    log (list of strings): rolling JSON entries (trimmed to the latest 365) storing the lightweight ping summary (ping_id, both timestamps, counts, machine id).\n",
    "\n",
    "NOTE: remember that the hyphenated property names require backticks in Cypher, e.g., p.\\lastPing-timestamp``\n",
    "\n",
    "\"\"\"\n",
    "\n",
    "import subprocess, json, os\n",
    "\n",
    "cmd = [\n",
    "    \"python\", \"../scripts/neo4j_ping.py\",\n",
    "    \"--monitor-id\", \"primary\",\n",
    "    \"--uri\", os.environ[\"NEO4J_URI\"],\n",
    "    \"--user\", os.environ[\"NEO4J_USERNAME\"],\n",
    "    \"--password\", os.environ[\"NEO4J_PASSWORD\"],\n",
    "    \"--monitor-id\", \"default\",    \n",
    "    \"--dry-run\",\n",
    "]\n",
    "payload = subprocess.check_output(cmd, text=True)\n",
    "print(payload)\n"
   ]
  },
  {
   "cell_type": "code",
   "execution_count": null,
   "id": "40e35e6e",
   "metadata": {},
   "outputs": [],
   "source": []
  }
 ],
 "metadata": {
  "kernelspec": {
   "display_name": "cite-ntwk-env",
   "language": "python",
   "name": ".venv"
  },
  "language_info": {
   "codemirror_mode": {
    "name": "ipython",
    "version": 3
   },
   "file_extension": ".py",
   "mimetype": "text/x-python",
   "name": "python",
   "nbconvert_exporter": "python",
   "pygments_lexer": "ipython3",
   "version": "3.11.3"
  },
  "toc": {
   "base_numbering": 1,
   "nav_menu": {},
   "number_sections": true,
   "sideBar": true,
   "skip_h1_title": false,
   "title_cell": "Table of Contents",
   "title_sidebar": "Contents",
   "toc_cell": false,
   "toc_position": {},
   "toc_section_display": true,
   "toc_window_display": false
  }
 },
 "nbformat": 4,
 "nbformat_minor": 5
}
